{
 "cells": [
  {
   "cell_type": "code",
   "execution_count": null,
   "metadata": {},
   "outputs": [],
   "source": [
    "import numpy as np\n",
    "import tensorflow as tf\n",
    "from PIL import Image\n",
    "import matplotlib.pyplot as plt\n",
    "%matplotlib inline"
   ]
  },
  {
   "cell_type": "code",
   "execution_count": null,
   "metadata": {},
   "outputs": [],
   "source": [
    "BREED_FILE = \"breeds.txt\"\n",
    "MODEL_FILE = \"best_local_refined.h5\"\n",
    "IMG_SIZE = 224"
   ]
  },
  {
   "cell_type": "code",
   "execution_count": null,
   "metadata": {},
   "outputs": [],
   "source": [
    "labels = []\n",
    "with open(BREED_FILE, \"r\") as f:\n",
    "    for line in f:\n",
    "        labels.append(line.strip())"
   ]
  },
  {
   "cell_type": "markdown",
   "metadata": {},
   "source": [
    "## Cargar modelo entrenado previamente\n",
    "El modelo está basado en la arquitectura [EfficientNetB0](https://arxiv.org/abs/1905.11946) con la última capa reconstruida para adecuarse al número de categorías para esta tarea específica. En este caso, se cuentan con 120 razas de perros definidas en el archivo `breeds.txt`.\n",
    "\n",
    "El modelo ha sido entrenado previamente usando la técnica de transfer learning y fine tuning de los parámetros entrenados sobre imagenet."
   ]
  },
  {
   "cell_type": "code",
   "execution_count": null,
   "metadata": {},
   "outputs": [],
   "source": [
    "loaded_model = tf.keras.models.load_model(MODEL_FILE)\n",
    "loaded_model.summary()"
   ]
  },
  {
   "cell_type": "markdown",
   "metadata": {},
   "source": [
    "## Realizar una predicción"
   ]
  },
  {
   "cell_type": "code",
   "execution_count": null,
   "metadata": {},
   "outputs": [],
   "source": [
    "image_file = \"labrador.jpg\"\n",
    "n_top = 3\n",
    "\n",
    "img = np.array(Image.open(image_file).resize((IMG_SIZE,IMG_SIZE)), dtype=np.float32)\n",
    "pred = loaded_model.predict(img.reshape(-1, IMG_SIZE, IMG_SIZE, 3))\n"
   ]
  },
  {
   "cell_type": "markdown",
   "metadata": {},
   "source": [
    "## Desplegar resultados"
   ]
  },
  {
   "cell_type": "code",
   "execution_count": null,
   "metadata": {},
   "outputs": [],
   "source": [
    "top_labels = {}\n",
    "if len(labels) >= n_top:\n",
    "    top_labels_ids = np.flip(np.argsort(pred, axis=1)[0, -n_top:])\n",
    "    for label_id in top_labels_ids:\n",
    "        top_labels[labels[label_id]] = pred[0,label_id].item()\n",
    "\n",
    "pred_label = labels[np.argmax(pred)]\n",
    "print(top_labels)\n",
    "plt.subplot(1,2,1)\n",
    "plt.imshow(Image.open(image_file))\n",
    "plt.title(pred_label)\n",
    "plt.subplot(1,2,2)\n",
    "plt.bar(top_labels.keys(), top_labels.values())\n",
    "plt.xticks(list(top_labels.keys()), rotation='vertical')"
   ]
  },
  {
   "cell_type": "code",
   "execution_count": null,
   "metadata": {},
   "outputs": [],
   "source": []
  }
 ],
 "metadata": {
  "interpreter": {
   "hash": "6c78bec314ce25a68994128a993c37e0956ef219d1822fc71d9d46169626b4a6"
  },
  "kernelspec": {
   "display_name": "Python 3.8.10 64-bit ('tensorflow': virtualenv)",
   "language": "python",
   "name": "python3"
  },
  "language_info": {
   "codemirror_mode": {
    "name": "ipython",
    "version": 3
   },
   "file_extension": ".py",
   "mimetype": "text/x-python",
   "name": "python",
   "nbconvert_exporter": "python",
   "pygments_lexer": "ipython3",
   "version": "3.8.10"
  },
  "orig_nbformat": 4
 },
 "nbformat": 4,
 "nbformat_minor": 2
}
